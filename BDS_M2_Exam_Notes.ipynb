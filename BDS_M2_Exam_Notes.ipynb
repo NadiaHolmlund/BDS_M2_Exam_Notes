{
  "nbformat": 4,
  "nbformat_minor": 0,
  "metadata": {
    "colab": {
      "provenance": [],
      "collapsed_sections": [],
      "toc_visible": true,
      "authorship_tag": "ABX9TyNGJ3tgE8gRqvtzJd2FUzMY",
      "include_colab_link": true
    },
    "kernelspec": {
      "name": "python3",
      "display_name": "Python 3"
    },
    "language_info": {
      "name": "python"
    }
  },
  "cells": [
    {
      "cell_type": "markdown",
      "metadata": {
        "id": "view-in-github",
        "colab_type": "text"
      },
      "source": [
        "<a href=\"https://colab.research.google.com/github/NadiaHolmlund/BDS_M2_Exam_Notes/blob/main/BDS_M2_Exam_Notes.ipynb\" target=\"_parent\"><img src=\"https://colab.research.google.com/assets/colab-badge.svg\" alt=\"Open In Colab\"/></a>"
      ]
    },
    {
      "cell_type": "markdown",
      "source": [
        "# Imports for examples"
      ],
      "metadata": {
        "id": "D3xWxeu0epkB"
      }
    },
    {
      "cell_type": "code",
      "source": [
        "import numpy as np\n",
        "import pandas as pd\n",
        "import seaborn as sns\n",
        "import matplotlib.pyplot as plt\n",
        "sns.set()"
      ],
      "metadata": {
        "id": "UnR0mrPwexUv"
      },
      "execution_count": 1,
      "outputs": []
    },
    {
      "cell_type": "markdown",
      "source": [
        "# Datasets for examples"
      ],
      "metadata": {
        "id": "HETQzrBZerex"
      }
    },
    {
      "cell_type": "markdown",
      "source": [
        "# Network Analysis"
      ],
      "metadata": {
        "id": "Ydr8ZL3hAI-x"
      }
    },
    {
      "cell_type": "markdown",
      "source": [
        "## What is a network?"
      ],
      "metadata": {
        "id": "tocpWFQsBCQq"
      }
    },
    {
      "cell_type": "markdown",
      "source": [
        "A network is a system of elements (nodes/vertices) and connections (edges/links) between them. Networks are used to present relational data and can be applied to many types of relationships between different types of elements.\n",
        "\n",
        "\n",
        "nodes: system theory jargon\n",
        "\n",
        "vertices: graph theory jargon\n",
        "\n",
        "![](https://raw.github.com/NadiaHolmlund/BDS_M2_Exam_Notes/main/Images/Unknown)"
      ],
      "metadata": {
        "id": "1XTz7eXPBFAv"
      }
    },
    {
      "cell_type": "markdown",
      "source": [
        "## Types of networks"
      ],
      "metadata": {
        "id": "41fG2OLjCef9"
      }
    },
    {
      "cell_type": "markdown",
      "source": [
        "The content, meaning and interpretation of networks depends of the elements and relationships displayed. Types of networks includes:\n",
        "\n",
        "Social networks:\n",
        "- Nodes/vertices represent actors (persons, firms, other socially constructed entitites)\n",
        "\n",
        "- Edges/links represent relationships between actors (friendship, interaction, co-affiliation, similarity, etc)\n",
        "\n",
        "Other networks:\n",
        "- Chemistry: Interaction between molecules\n",
        "- Computer Science: The world-wide-web, inter- and intranet topologies\n",
        "- Biology: Food-web, ant-hives"
      ],
      "metadata": {
        "id": "b0kyFInMDGTy"
      }
    },
    {
      "cell_type": "markdown",
      "source": [
        "The possibilities to depict relational data are manifold, e.g.:\n",
        "\n",
        "Relations among persons\n",
        "- Kinship: mother of, wife of…\n",
        "- Other role based: boss of, supervisor of…\n",
        "- Affective: likes, trusts…\n",
        "- Interaction: give advice, talks to, retweets…\n",
        "- Affiliation: belong to same clubs, shares same interests…\n",
        "\n",
        "Relations among organizations\n",
        "- As corporate entities, joint ventures, strategic alliances\n",
        "- Buy from / sell to, leases to, outsources to\n",
        "- Owns shares of, subsidiary of\n",
        "- Via their members (Personnel flows, friendship…)"
      ],
      "metadata": {
        "id": "jppmXsJMEz0m"
      }
    },
    {
      "cell_type": "markdown",
      "source": [
        "## Relational data structures"
      ],
      "metadata": {
        "id": "bbZ0UBojFFGb"
      }
    },
    {
      "cell_type": "markdown",
      "source": [
        "### Edgelist"
      ],
      "metadata": {
        "id": "AJZzWF2uKIz4"
      }
    },
    {
      "cell_type": "markdown",
      "source": [
        "- A common form of storing relational data\n",
        "- An edgelist is a dataframe containing minimum two columns:\n",
        "  - column 1: Source node of a connection\n",
        "  - column 2: Target node of a connection\n",
        "- Nodes are typically identified by unique IDs\n",
        "- An edge list can also contain additional columns that describe **attributes** of the edges such as magnitude aspects for an edge. If the edges have a magnitude attribute the graph is considered **weighted** (e.g., number of interactions, strenght of friendship). \n",
        "\n",
        "![](https://raw.github.com/NadiaHolmlund/BDS_M2_Exam_Notes/main/Images/maxresdefault.jpg)\n"
      ],
      "metadata": {
        "id": "SfndnuXOFG-1"
      }
    },
    {
      "cell_type": "markdown",
      "source": [
        "### Adjacency matrix / Socio matrix"
      ],
      "metadata": {
        "id": "UnIn_-psKMXU"
      }
    },
    {
      "cell_type": "markdown",
      "source": [
        "- Represented as a n*n matrix, where n stands for the number of elements (nodes/vertices) of which relationships should be represented\n",
        "- The value in the cell that intercepts row n and column m indicates if an edge is present (=1) or absent (=0).\n",
        "- An adjacency matrix can be produced by crosstabulating an edgelist\n",
        "\n",
        "Note the impact of directed vs. undirected vs. weighted networks on adjacency matrices\n",
        "\n",
        "![](https://raw.github.com/NadiaHolmlund/BDS_M2_Exam_Notes/main/Images/Different-types-of-graphs-and-their-corresponding-adjacency-matrix-representations-The.ppm.png)"
      ],
      "metadata": {
        "id": "KbVA1BdfHr_A"
      }
    },
    {
      "cell_type": "markdown",
      "source": [
        "### Nodelist"
      ],
      "metadata": {
        "id": "jDX0Vbr3KQak"
      }
    },
    {
      "cell_type": "markdown",
      "source": [
        "- Contains information about the nodes (edgelist and adjacency matrix stores only connectivity patterns ***between*** nodes)\n",
        "  - e.g. name, gender, age, group etc.\n",
        "\n",
        "  ![](https://raw.github.com/NadiaHolmlund/BDS_M2_Exam_Notes/main/Images/Screenshot%202022-10-29%20at%2012.00.45.png)"
      ],
      "metadata": {
        "id": "3VF4g8ioKR44"
      }
    },
    {
      "cell_type": "markdown",
      "source": [
        "## Network graphs"
      ],
      "metadata": {
        "id": "R_5wYXeHMT09"
      }
    },
    {
      "cell_type": "markdown",
      "source": [
        "### Graph objects"
      ],
      "metadata": {
        "id": "WXvYfAgcMVRQ"
      }
    },
    {
      "cell_type": "markdown",
      "source": [
        "Tabular data dependency\n",
        "- Between observation dependency: Summary statistics of variables are between observations (column-wise) interdependent, meaning changing a value of some observation will change the corresponding variables summary statistics.\n",
        "- Within observation dependency: Summary statitics of variables are within observations (row-wise) interdependent, meaning changing a variable value might change summary statistics of the observation\n",
        "- Otherwise, values are (at least mathematically) independent"
      ],
      "metadata": {
        "id": "3v0C_DWiOwXD"
      }
    },
    {
      "cell_type": "markdown",
      "source": [
        "Graph data dependency\n",
        "- Above holds true, but graph data holds additional dependencies due to the relational structure of data.\n",
        "- E.g. adding/removing node(s) may imply adding/removing edge(s) and adding/removing edge(s) may change the characteristics of node(s), due to their relational interdependence\n",
        "\n",
        "![](https://raw.github.com/NadiaHolmlund/BDS_M2_Exam_Notes/main/Images/Screenshot%202022-10-29%20at%2012.24.25.png)\n"
      ],
      "metadata": {
        "id": "HfKysRcZQChy"
      }
    },
    {
      "cell_type": "markdown",
      "source": [
        "### Graph concepts and terminology"
      ],
      "metadata": {
        "id": "Wj20Vib3MXeO"
      }
    },
    {
      "cell_type": "markdown",
      "source": [
        "- The vertices ***u*** and ***v*** are called the end vertices of the edge ***(u,v)***\n",
        "- If two edges have the same end vertices they are ***Parallel***\n",
        "- An edge of the form ***(v,v)*** is a ***loop***\n",
        "- A Graph is ***simple*** if it has no parallel edges and loops\n",
        "- A Graph is said to be ***Empty*** if it has no edges. Meaning ***E*** is empty\n",
        "- A Graph is a ***Null Graph*** if it has no vertices. Meaning ***V*** and ***E*** is empty\n",
        "- Edges are ***Adjacent*** if they have a common vertex. Vertices are ***Adjacent*** if they have a common edge\n",
        "- The ***degree*** of the vertex ***v***, written as ***d(v)***, is the number of edges with v as an end vertex. By convention, we count a loop twice and parallel edges contribute separately\n",
        "- ***Isolated*** Vertices are vertices with degree 1.\n",
        "- A Graph is ***Complete*** if its edge set contains every possible edge between ALL of the vertices\n",
        "- A ***Walk*** in a Graph ***G = (V,E)*** is a finite, alternating sequence of the form ViEiViEi consisting of vertices and edges of the graph ***G***\n",
        "- A ***Walk*** is ***Open*** if the initial and final vertices are different. A ***Walk*** is ***Closed*** if the initial and final vertices are the same"
      ],
      "metadata": {
        "id": "1mRS7q9OR1y0"
      }
    },
    {
      "cell_type": "markdown",
      "source": [
        "### UPDATE Types of graphs"
      ],
      "metadata": {
        "id": "eycSQC-mhw8_"
      }
    },
    {
      "cell_type": "markdown",
      "source": [
        "1. Weigthed vs. Unweighted\n",
        "2. Directed vs. Undirected\n",
        "3. Unimodal vs. Multimodal\n",
        "4. Unidimensional vs. Multidimensional\n",
        "\n",
        "`networkx` graph classes\n",
        "1. Graph\n",
        "2. DiGraph\n",
        "3. MultiGraph\n",
        "4. MultiDigraph"
      ],
      "metadata": {
        "id": "G9ShadZ6h009"
      }
    },
    {
      "cell_type": "markdown",
      "source": [
        "#### Weigthed vs. Unweighted"
      ],
      "metadata": {
        "id": "9np0YgUElKDT"
      }
    },
    {
      "cell_type": "markdown",
      "source": [
        "#### Directed vs. Undirected"
      ],
      "metadata": {
        "id": "mg2w257VlNJD"
      }
    },
    {
      "cell_type": "markdown",
      "source": [
        "#### Unimodal vs. Multimodal"
      ],
      "metadata": {
        "id": "wYgsHp00lOlI"
      }
    },
    {
      "cell_type": "markdown",
      "source": [
        "#### Unidimensional vs. Multidimensional"
      ],
      "metadata": {
        "id": "-8I_Q4NFlUz-"
      }
    },
    {
      "cell_type": "markdown",
      "source": [
        "### NetworkX library"
      ],
      "metadata": {
        "id": "MAYJhQxWhSFe"
      }
    },
    {
      "cell_type": "markdown",
      "source": [
        "A graph object is a specific datastructure which contains node and edgelists jointly, and enables the application of graph algorithms on them. We work with the [`networkx`](https://networkx.github.io/documentation/stable/index.html) library, which is the standard for network analysis in the Python community."
      ],
      "metadata": {
        "id": "4RptyNgThUCm"
      }
    },
    {
      "cell_type": "code",
      "source": [
        "import networkx as nx # Main network analysis library"
      ],
      "metadata": {
        "id": "M6ILRfepxNU-"
      },
      "execution_count": 12,
      "outputs": []
    },
    {
      "cell_type": "markdown",
      "source": [
        "In NetworkX, graph data are stored in a dictionary-like fashion.\n",
        "They are placed under a `Graph` object,\n",
        "canonically instantiated with the variable `G` as follows:\n",
        "\n",
        "```python\n",
        "G = nx.Graph()\n",
        "```\n",
        "\n",
        "Of course, you are free to name the graph anything you want!\n",
        "\n",
        "Nodes are part of the attribute `G.nodes`.\n",
        "There, the node data are housed in a dictionary-like container,\n",
        "where the key is the node itself\n",
        "and the values are a dictionary of attributes. \n",
        "Node data are accessible using syntax that looks like:\n",
        "\n",
        "```python\n",
        "G.nodes[node1]\n",
        "```\n",
        "\n",
        "Edges are part of the attribute `G.edges`,\n",
        "which is also stored in a dictionary-like container.\n",
        "Edge data are accessible using syntax that looks like: \n",
        "\n",
        "```python\n",
        "G.edges[node1, node2]\n",
        "```\n",
        "Because of the dictionary-like implementation of the graph,\n",
        "any hashable object can be a node.\n",
        "This means strings and tuples, but not lists and sets."
      ],
      "metadata": {
        "id": "aPCP1SrBRsIf"
      }
    },
    {
      "cell_type": "markdown",
      "source": [
        "## Local network structure (node-level measures)"
      ],
      "metadata": {
        "id": "arOixM0aUJxm"
      }
    },
    {
      "cell_type": "markdown",
      "source": [
        "Methods to summarise the pattern of node connectivity to inter something on their characteristics.\n",
        "\n",
        "![](https://raw.github.com/NadiaHolmlund/BDS_M2_Exam_Notes/main/Images/Screenshot%202022-10-29%20at%2012.38.56.png)"
      ],
      "metadata": {
        "id": "cmW2pE-oUidz"
      }
    },
    {
      "cell_type": "markdown",
      "source": [
        "### Degree centrality"
      ],
      "metadata": {
        "id": "GkuGCdNAVB8a"
      }
    },
    {
      "cell_type": "markdown",
      "source": [
        "- Counts the number of edges adjacent to a node.\n",
        "- Formally, the degree of node $i$ is the number of existing edges $e_{ij}$ with other nodes $j$ in a network with $n$ nodes:\n",
        "\n",
        "$$d_{ij} =\\sum\\limits_{j=1}^{n} e_{ij} ~ where: ~ i \\neq j$$\n",
        "\n",
        "**Degree centrality in directed networks**\n",
        "\n",
        "In directed networks, a node-pair has two different roles:\n",
        "\n",
        "* **Ego:** The node the edge originates from.\n",
        "* **Alter:** The node the edge leads to.\n",
        "\n",
        "Network metrics have to take directionality into account. For example, degree centrality is now differentiated between the\n",
        "- **in-degree** centrality (now many edges lead to the node)\n",
        "- **out-degree** centrality (now many edges lead to the node)\n",
        "\n",
        "![](https://raw.github.com/NadiaHolmlund/BDS_M2_Exam_Notes/main/Images/Screenshot%202022-10-29%20at%2012.43.47.png)"
      ],
      "metadata": {
        "id": "8ADMvslxVjvu"
      }
    },
    {
      "cell_type": "markdown",
      "source": [
        "### Eigenvector centrality"
      ],
      "metadata": {
        "id": "RHqmrFCFVXWN"
      }
    },
    {
      "cell_type": "markdown",
      "source": [
        "- Weighs a node's degree centrality by the centrality of the nodes adjacent to it (and their centrality in turn by their centrality).\n",
        "\n",
        "$$x_{v}={\\frac {1}{\\lambda }}\\sum _{t\\in M(v)}x_{t}={\\frac {1}{\\lambda }}\\sum _{t\\in G}a_{v,t}x_{t}$$\n",
        "\n",
        "![](https://raw.github.com/NadiaHolmlund/BDS_M2_Exam_Notes/main/Images/Screenshot%202022-10-29%20at%2012.48.08.png)"
      ],
      "metadata": {
        "id": "j360eHOeWLeF"
      }
    },
    {
      "cell_type": "markdown",
      "source": [
        "### Betweenness centrality"
      ],
      "metadata": {
        "id": "oLp_3obCVc_d"
      }
    },
    {
      "cell_type": "markdown",
      "source": [
        "- Measures the extent to which it lies on short paths.\n",
        "- A higher betweenness indicates that a node lies on more short paths and hence should somehow be important for traversing between different parts of a network.\n",
        "\n",
        "In formulaic representation\n",
        "\n",
        "* The geodesic betweenness $B_{n}(i)$ of a **vertex** in a weighted, undirected network is\n",
        "\n",
        "$$B_{n}(i) =  \\sum_{s,t \\in G} \\frac{ \\Psi_{s,t}(i) }{\\Psi_{s,t}}$$\n",
        "where vertices $s,t,i$ are all different from each other\n",
        "\n",
        "* $\\Psi_{s,t}$ denotes the number of shortest paths (geodesics) between vertices $s$ and $t$\n",
        "* $\\Psi_{s,t}(i)$ denotes the number of shortest paths (geodesics) between vertices $s$ and $t$ **that pass through vertex** $i$.\n",
        "* The geodesic betweenness $B_n$ of a network is the mean of $B_n(i)$ over all vertices $i$\n",
        "\n",
        "![](https://raw.github.com/NadiaHolmlund/BDS_M2_Exam_Notes/main/Images/Screenshot%202022-10-29%20at%2012.51.47.png)"
      ],
      "metadata": {
        "id": "zjAhCzJFXSyg"
      }
    },
    {
      "cell_type": "markdown",
      "source": [
        "### Neighborhood"
      ],
      "metadata": {
        "id": "fGExOYbRYBDM"
      }
    },
    {
      "cell_type": "markdown",
      "source": [
        "- Examines the surroundings of a node in terms of the nodes it is connected to, i.e. it's neighborhood\n",
        "- Ego-network of node: How many nodes are in a certain geodesic distance (meaning the shortest path), i.e. how many nodes are not more than x-steps away.\n",
        "\n",
        "![](https://raw.github.com/NadiaHolmlund/BDS_M2_Exam_Notes/main/Images/Screenshot%202022-10-29%20at%2012.57.16.png)"
      ],
      "metadata": {
        "id": "d0fHzek6YFwR"
      }
    },
    {
      "cell_type": "markdown",
      "source": [
        "### UPDATE Clustering (Community detection)\n",
        "what is within and between network connectivity??"
      ],
      "metadata": {
        "id": "op8IJNQoZISL"
      }
    },
    {
      "cell_type": "markdown",
      "source": [
        "- Group nodes based on graph topology (sometimes referred to as community detection based on its commonality in social network analysis)\n",
        "- Main logic: Form groups which have a ***maximum within-connectivity*** and a ***minimum between-connectivity***.\n",
        "- Consequently: Nodes in the same community should have a higher probability of being connected than nodes from different communities.\n",
        "\n",
        "**Community clustering in directed networks**\n",
        "\n",
        "Most community detection algorithms implemented in `NetworkX` only work with undirected networks. So, we can do 2 things to handle these:\n",
        "\n",
        "1. Convert the network in an undirected one.\n",
        "2. Use the \"edge betweenness\" algorithm, the only one implemented that can handle directed networks.\n",
        "\n",
        "There are (just like for clustering of tabular data in UML) many different algorithms and approaches to detect and delineate communities. [Here](https://github.com/benedekrozemberczki/awesome-community-detection) you find a summary of currently used approaches."
      ],
      "metadata": {
        "id": "sJBWbOoOZJkA"
      }
    },
    {
      "cell_type": "markdown",
      "source": [
        "Example: The Louvain Algorithm\n",
        "\n",
        "One of the most widely used community detection algorithms. It usually delivers good results, scales well, and can handle weighted networks. Furthermore, there is an actively maintained, easy to use Python implementation, [`python-louvain`](https://python-louvain.readthedocs.io).\n",
        "\n",
        "It optimises a quantity called modularity:\n",
        "\n",
        "$$  \\sum_{ij} (A_{ij} - \\lambda P_{ij}) \\delta(c_i,c_j) $$\n",
        "\n",
        "$A$ - The adjacency matrix\n",
        "\n",
        "$P_{ij}$ - The expected connection between $i$ and $j$.\n",
        "\n",
        "$\\lambda$ - Resolution parameter\n",
        "\n",
        "Can use lots of different forms for $P_{ij}$ but the standard one is the so called configuration model:\n",
        "\n",
        "$P_{ij} = \\frac{k_i k_j}{2m}$\n",
        "\n",
        "Loosely speaking, in an iterative process:\n",
        "- You take a node and try to aggregate it to one of its neighbours.\n",
        "- You choose the neighbour that maximizes a modularity function.\n",
        "- Once you iterate through all the nodes, you will have merged few nodes together and formed some communities.\n",
        "- This becomes the new input for the algorithm that will treat each community as a node and try to merge them together to create bigger communities.\n",
        "- The algorithm stops when it’s not possible to improve modularity any more.\n",
        "\n",
        "![](https://raw.github.com/NadiaHolmlund/BDS_M2_Exam_Notes/main/Images/Screenshot%202022-10-29%20at%2013.04.56.png)\n",
        "\n",
        "![](https://raw.github.com/NadiaHolmlund/BDS_M2_Exam_Notes/main/Images/Screenshot%202022-10-29%20at%2013.06.10.png)"
      ],
      "metadata": {
        "id": "E7OcvXIHaZRI"
      }
    },
    {
      "cell_type": "markdown",
      "source": [
        "### Assortiativity"
      ],
      "metadata": {
        "id": "N2qUHD_Fnrvn"
      }
    },
    {
      "cell_type": "markdown",
      "source": [
        "- Measures if two nodes that share certain characteristics have a higher or lower probability to be connected.\n"
      ],
      "metadata": {
        "id": "WQgAKabQnuf_"
      }
    },
    {
      "cell_type": "markdown",
      "source": [
        "### Reciprocity\n",
        "\n",
        "- Measures if directed edges are reciptocated, meaning that an edge between `i,j` makes an edge between `j,i` more likely"
      ],
      "metadata": {
        "id": "AOt2P7_an5Qw"
      }
    },
    {
      "cell_type": "markdown",
      "source": [
        "## Global network structure (overall-level measures)"
      ],
      "metadata": {
        "id": "VvEAQMZtbml2"
      }
    },
    {
      "cell_type": "markdown",
      "source": [
        "### Density"
      ],
      "metadata": {
        "id": "UL41dMJEb5jc"
      }
    },
    {
      "cell_type": "markdown",
      "source": [
        "- The density of a measure represents the share of all possible connections in the network."
      ],
      "metadata": {
        "id": "whjcF-_1cL6_"
      }
    },
    {
      "cell_type": "markdown",
      "source": [
        "### Transistivity / Clustering Coefficient"
      ],
      "metadata": {
        "id": "dVNbkMPzb-UK"
      }
    },
    {
      "cell_type": "markdown",
      "source": [
        "- Transistivity, also called the Clustering Cefficient indicates how much the network tends to be locally clustered. That is measured by the share of closed triplets. Again,w e will dig into that next time."
      ],
      "metadata": {
        "id": "Az01DuuCccMP"
      }
    },
    {
      "cell_type": "markdown",
      "source": [
        "### Diameter"
      ],
      "metadata": {
        "id": "ZGStDpQ0cBGC"
      }
    },
    {
      "cell_type": "markdown",
      "source": [
        "- The diameter is the longest of the shortest paths between two nodes of the network."
      ],
      "metadata": {
        "id": "4bIojY_MdzrO"
      }
    },
    {
      "cell_type": "markdown",
      "source": [
        "### Mean distance / Average path lenght"
      ],
      "metadata": {
        "id": "8UTh6SU3cDgo"
      }
    },
    {
      "cell_type": "markdown",
      "source": [
        "- The mean distance / average path lenght represents the mean of all shortest paths between all nodes. It is a measure of diffusion potential within a network."
      ],
      "metadata": {
        "id": "ejUylNTbd9CR"
      }
    },
    {
      "cell_type": "markdown",
      "source": [
        "## Small worlds"
      ],
      "metadata": {
        "id": "RYx5dKfykeyV"
      }
    },
    {
      "cell_type": "markdown",
      "source": [
        "Small worlds are an interesting network structure, combining short path lenght betwen the nodes with a high clustering coefficient. That means, that we have small interconected clusters, which are in turn connected by **gatekeepers** (the edges we call **bridges** or **structural holes**). "
      ],
      "metadata": {
        "id": "xRRqgXqlkgZP"
      }
    },
    {
      "cell_type": "markdown",
      "source": [
        "## Multimodal network analysis"
      ],
      "metadata": {
        "id": "8irJwuXaeNzg"
      }
    }
  ]
}