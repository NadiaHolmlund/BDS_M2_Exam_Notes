{
  "nbformat": 4,
  "nbformat_minor": 0,
  "metadata": {
    "colab": {
      "provenance": [],
      "collapsed_sections": [],
      "toc_visible": true,
      "authorship_tag": "ABX9TyN3hMcOKhuLMsQTu+R+UJwv",
      "include_colab_link": true
    },
    "kernelspec": {
      "name": "python3",
      "display_name": "Python 3"
    },
    "language_info": {
      "name": "python"
    }
  },
  "cells": [
    {
      "cell_type": "markdown",
      "metadata": {
        "id": "view-in-github",
        "colab_type": "text"
      },
      "source": [
        "<a href=\"https://colab.research.google.com/github/NadiaHolmlund/BDS_M2_Exam_Notes/blob/main/BDS_M2_Exam_Notes.ipynb\" target=\"_parent\"><img src=\"https://colab.research.google.com/assets/colab-badge.svg\" alt=\"Open In Colab\"/></a>"
      ]
    },
    {
      "cell_type": "markdown",
      "source": [
        "# Imports for examples"
      ],
      "metadata": {
        "id": "D3xWxeu0epkB"
      }
    },
    {
      "cell_type": "code",
      "source": [
        "import numpy as np\n",
        "import pandas as pd\n",
        "import seaborn as sns\n",
        "import matplotlib.pyplot as plt\n",
        "sns.set()"
      ],
      "metadata": {
        "id": "UnR0mrPwexUv"
      },
      "execution_count": null,
      "outputs": []
    },
    {
      "cell_type": "markdown",
      "source": [
        "# Datasets for examples"
      ],
      "metadata": {
        "id": "HETQzrBZerex"
      }
    },
    {
      "cell_type": "markdown",
      "source": [
        "# Network Analysis"
      ],
      "metadata": {
        "id": "Ydr8ZL3hAI-x"
      }
    },
    {
      "cell_type": "markdown",
      "source": [
        "## What is a network?"
      ],
      "metadata": {
        "id": "tocpWFQsBCQq"
      }
    },
    {
      "cell_type": "markdown",
      "source": [
        "A network is a system of elements (nodes/vertices) and connections (edges/links) between them. Networks are used to present relational data and can be applied to many types of relationships between different types of elements.\n",
        "\n",
        "\n",
        "nodes: system theory jargon\n",
        "\n",
        "vertices: graph theory jargon\n",
        "\n",
        "![](https://raw.github.com/NadiaHolmlund/BDS_M2_Exam_Notes/main/Images/Unknown)"
      ],
      "metadata": {
        "id": "1XTz7eXPBFAv"
      }
    },
    {
      "cell_type": "markdown",
      "source": [
        "## Types of networks"
      ],
      "metadata": {
        "id": "41fG2OLjCef9"
      }
    },
    {
      "cell_type": "markdown",
      "source": [
        "The content, meaning and interpretation of networks depends of the elements and relationships displayed. Types of networks includes:\n",
        "\n",
        "Social networks:\n",
        "- Nodes/vertices represent actors (persons, firms, other socially constructed entitites)\n",
        "\n",
        "- Edges/links represent relationships between actors (friendship, interaction, co-affiliation, similarity, etc)\n",
        "\n",
        "Other networks:\n",
        "- Chemistry: Interaction between molecules\n",
        "- Computer Science: The world-wide-web, inter- and intranet topologies\n",
        "- Biology: Food-web, ant-hives"
      ],
      "metadata": {
        "id": "b0kyFInMDGTy"
      }
    },
    {
      "cell_type": "markdown",
      "source": [
        "The possibilities to depict relational data are manifold, e.g.:\n",
        "\n",
        "Relations among persons\n",
        "- Kinship: mother of, wife of…\n",
        "- Other role based: boss of, supervisor of…\n",
        "- Affective: likes, trusts…\n",
        "- Interaction: give advice, talks to, retweets…\n",
        "- Affiliation: belong to same clubs, shares same interests…\n",
        "\n",
        "Relations among organizations\n",
        "- As corporate entities, joint ventures, strategic alliances\n",
        "- Buy from / sell to, leases to, outsources to\n",
        "- Owns shares of, subsidiary of\n",
        "- Via their members (Personnel flows, friendship…)"
      ],
      "metadata": {
        "id": "jppmXsJMEz0m"
      }
    },
    {
      "cell_type": "markdown",
      "source": [
        "## Relational data structures"
      ],
      "metadata": {
        "id": "bbZ0UBojFFGb"
      }
    },
    {
      "cell_type": "markdown",
      "source": [
        "### Edgelist"
      ],
      "metadata": {
        "id": "AJZzWF2uKIz4"
      }
    },
    {
      "cell_type": "markdown",
      "source": [
        "- A common form of storing relational data\n",
        "- An edgelist is a dataframe containing minimum two columns:\n",
        "  - column 1: Source node of a connection\n",
        "  - column 2: Target node of a connection\n",
        "- Nodes are typically identified by unique IDs\n",
        "- An edge list can also contain additional columns that describe **attributes** of the edges such as magnitude aspects for an edge. If the edges have a magnitude attribute the graph is considered **weighted** (e.g., number of interactions, strenght of friendship). \n",
        "\n",
        "![](https://raw.github.com/NadiaHolmlund/BDS_M2_Exam_Notes/main/Images/maxresdefault.jpg)\n"
      ],
      "metadata": {
        "id": "SfndnuXOFG-1"
      }
    },
    {
      "cell_type": "markdown",
      "source": [
        "### Adjacency matrix / Socio matrix"
      ],
      "metadata": {
        "id": "UnIn_-psKMXU"
      }
    },
    {
      "cell_type": "markdown",
      "source": [
        "- Represented as a n*n matrix, where n stands for the number of elements (nodes/vertices) of which relationships should be represented\n",
        "- The value in the cell that intercepts row n and column m indicates if an edge is present (=1) or absent (=0).\n",
        "- An adjacency matrix can be produced by crosstabulating an edgelist\n",
        "\n",
        "Note the impact of directed vs. undirected vs. weighted networks on adjacency matrices\n",
        "\n",
        "![](https://raw.github.com/NadiaHolmlund/BDS_M2_Exam_Notes/main/Images/Different-types-of-graphs-and-their-corresponding-adjacency-matrix-representations-The.ppm.png)"
      ],
      "metadata": {
        "id": "KbVA1BdfHr_A"
      }
    },
    {
      "cell_type": "markdown",
      "source": [
        "### Nodelist"
      ],
      "metadata": {
        "id": "jDX0Vbr3KQak"
      }
    },
    {
      "cell_type": "markdown",
      "source": [
        "- Contains information about the nodes (edgelist and adjacency matrix stores only connectivity patterns ***between*** nodes)\n",
        "  - e.g. name, gender, age, group etc.\n",
        "\n",
        "  ![](https://raw.github.com/NadiaHolmlund/BDS_M2_Exam_Notes/main/Images/Screenshot%202022-10-29%20at%2012.00.45.png)"
      ],
      "metadata": {
        "id": "3VF4g8ioKR44"
      }
    },
    {
      "cell_type": "markdown",
      "source": [
        "## Network graphs"
      ],
      "metadata": {
        "id": "R_5wYXeHMT09"
      }
    },
    {
      "cell_type": "markdown",
      "source": [
        "### Graph objects"
      ],
      "metadata": {
        "id": "WXvYfAgcMVRQ"
      }
    },
    {
      "cell_type": "markdown",
      "source": [
        "Tabular data dependency\n",
        "- Between observation dependency: Summary statistics of variables are between observations (column-wise) interdependent, meaning changing a value of some observation will change the corresponding variables summary statistics.\n",
        "- Within observation dependency: Summary statitics of variables are within observations (row-wise) interdependent, meaning changing a variable value might change summary statistics of the observation\n",
        "- Otherwise, values are (at least mathematically) independent"
      ],
      "metadata": {
        "id": "3v0C_DWiOwXD"
      }
    },
    {
      "cell_type": "markdown",
      "source": [
        "Graph data dependency\n",
        "- Above holds true, but graph data holds additional dependencies due to the relational structure of data.\n",
        "- E.g. adding/removing node(s) may imply adding/removing edge(s) and adding/removing edge(s) may change the characteristics of node(s), due to their relational interdependence\n",
        "\n",
        "![](https://raw.github.com/NadiaHolmlund/BDS_M2_Exam_Notes/main/Images/Screenshot%202022-10-29%20at%2012.24.25.png)\n"
      ],
      "metadata": {
        "id": "HfKysRcZQChy"
      }
    },
    {
      "cell_type": "markdown",
      "source": [
        "### Graph concepts and terminology"
      ],
      "metadata": {
        "id": "Wj20Vib3MXeO"
      }
    },
    {
      "cell_type": "markdown",
      "source": [
        "- The vertices ***u*** and ***v*** are called the end vertices of the edge ***(u,v)***\n",
        "- If two edges have the same end vertices they are ***Parallel***\n",
        "- An edge of the form ***(v,v)*** is a ***loop***\n",
        "- A Graph is ***simple*** if it has no parallel edges and loops\n",
        "- A Graph is said to be ***Empty*** if it has no edges. Meaning ***E*** is empty\n",
        "- A Graph is a ***Null Graph*** if it has no vertices. Meaning ***V*** and ***E*** is empty\n",
        "- Edges are ***Adjacent*** if they have a common vertex. Vertices are ***Adjacent*** if they have a common edge\n",
        "- The ***degree*** of the vertex ***v***, written as ***d(v)***, is the number of edges with v as an end vertex. By convention, we count a loop twice and parallel edges contribute separately\n",
        "- ***Isolated*** Vertices are vertices with degree 1.\n",
        "- A Graph is ***Complete*** if its edge set contains every possible edge between ALL of the vertices\n",
        "- A ***Walk*** in a Graph ***G = (V,E)*** is a finite, alternating sequence of the form ViEiViEi consisting of vertices and edges of the graph ***G***\n",
        "- A ***Walk*** is ***Open*** if the initial and final vertices are different. A ***Walk*** is ***Closed*** if the initial and final vertices are the same"
      ],
      "metadata": {
        "id": "1mRS7q9OR1y0"
      }
    },
    {
      "cell_type": "markdown",
      "source": [
        "#### Self-lopps"
      ],
      "metadata": {
        "id": "TEF3iFExgskq"
      }
    },
    {
      "cell_type": "markdown",
      "source": [
        "![](https://raw.github.com/NadiaHolmlund/BDS_M2_Exam_Notes/main/Images/Screenshot%202022-10-30%20at%2007.48.44.png)"
      ],
      "metadata": {
        "id": "cILQjVqIgudE"
      }
    },
    {
      "cell_type": "markdown",
      "source": [
        "### UPDATE Types of graphs"
      ],
      "metadata": {
        "id": "eycSQC-mhw8_"
      }
    },
    {
      "cell_type": "markdown",
      "source": [
        "1. Weigthed vs. Unweighted\n",
        "2. Directed vs. Undirected\n",
        "3. Unimodal vs. Multimodal\n",
        "4. Unidimensional vs. Multidimensional\n",
        "\n",
        "`networkx` graph classes\n",
        "1. Graph\n",
        "2. DiGraph\n",
        "3. MultiGraph\n",
        "4. MultiDigraph"
      ],
      "metadata": {
        "id": "G9ShadZ6h009"
      }
    },
    {
      "cell_type": "markdown",
      "source": [
        "#### Weigthed vs. Unweighted"
      ],
      "metadata": {
        "id": "9np0YgUElKDT"
      }
    },
    {
      "cell_type": "markdown",
      "source": [
        "Weighted: edges have values associated with them\n",
        "\n",
        "Unweighted: edges either exist or do not\n",
        "\n",
        "![](https://raw.github.com/NadiaHolmlund/BDS_M2_Exam_Notes/main/Images/Screenshot%202022-10-30%20at%2007.48.07.png)"
      ],
      "metadata": {
        "id": "qKpZ7ORTgdEl"
      }
    },
    {
      "cell_type": "markdown",
      "source": [
        "#### Directed vs. Undirected"
      ],
      "metadata": {
        "id": "mg2w257VlNJD"
      }
    },
    {
      "cell_type": "markdown",
      "source": [
        "Directed: edges are not necessarily reciprocated\n",
        "\n",
        "Undirected: edges are always mutual\n",
        "\n",
        "![](https://raw.github.com/NadiaHolmlund/BDS_M2_Exam_Notes/main/Images/Screenshot%202022-10-30%20at%2007.46.51.png)\n",
        "\n",
        "![](https://raw.github.com/NadiaHolmlund/BDS_M2_Exam_Notes/main/Images/Screenshot%202022-10-30%20at%2007.46.34.png)\n",
        "\n",
        "![](https://raw.github.com/NadiaHolmlund/BDS_M2_Exam_Notes/main/Images/Screenshot%202022-10-30%20at%2007.46.24.png)\n",
        "\n",
        "![](https://raw.github.com/NadiaHolmlund/BDS_M2_Exam_Notes/main/Images/Screenshot%202022-10-30%20at%2007.46.01.png)\n",
        "\n",
        "![](https://raw.github.com/NadiaHolmlund/BDS_M2_Exam_Notes/main/Images/Screenshot%202022-10-30%20at%2007.47.34.png)\n",
        "\n",
        "![](https://raw.github.com/NadiaHolmlund/BDS_M2_Exam_Notes/main/Images/Screenshot%202022-10-30%20at%2007.47.05.png)"
      ],
      "metadata": {
        "id": "3oFGtT4yfm2H"
      }
    },
    {
      "cell_type": "markdown",
      "source": [
        "#### Unimodal vs. Multimodal"
      ],
      "metadata": {
        "id": "wYgsHp00lOlI"
      }
    },
    {
      "cell_type": "markdown",
      "source": [
        "Unimodal networks (1-mode): include only one type of node (e.g. all nodes represent people)\n",
        "\n",
        "![](https://toreopsahl.files.wordpress.com/2009/04/fig1_twomode_simple.png)\n",
        "\n",
        "Multimodal (2-mode / Bipartite / Bimodal): include more than one type of node (.e.g people and research papers)\n",
        "\n",
        "![](https://toreopsahl.files.wordpress.com/2009/04/fig1_twomode_half.png)"
      ],
      "metadata": {
        "id": "u_4hJFTKgAH0"
      }
    },
    {
      "cell_type": "markdown",
      "source": [
        "#### Unidimensional vs. Multidimensional"
      ],
      "metadata": {
        "id": "-8I_Q4NFlUz-"
      }
    },
    {
      "cell_type": "markdown",
      "source": [
        "Unidimensional: includes one type of edges\n",
        "\n",
        "Multidimensional: Includes multiple types of edges (can be analysed as multiplex network or multiple distinct networks)\n",
        "\n",
        "Multidimensional networks are a special type of multilayer networks with multiple types of relations. They also consist of nodes and edges, but the nodes exist in separate layers, representing different forms of interactions, which connect to form an aspect. Aspects (or stacks of layers) can be used to represent different types of contacts, spatial locations, subsystems, or points in time\n",
        "\n",
        "Example:\n",
        "The multiplex social network of Star Wars saga. Each layer denotes a different episode and two nodes are connected to each other if the corresponding characters acted together in one or more scenes.\n",
        "\n",
        "![](https://raw.github.com/NadiaHolmlund/BDS_M2_Exam_Notes/main/Images/Muxviz_Star_Wars_Social_Network.png)"
      ],
      "metadata": {
        "id": "sjtZDb-CjItJ"
      }
    },
    {
      "cell_type": "markdown",
      "source": [
        "#### Visualizing networks"
      ],
      "metadata": {
        "id": "zHajRgMGhEq0"
      }
    },
    {
      "cell_type": "markdown",
      "source": [
        "##### Matrix plots"
      ],
      "metadata": {
        "id": "FsHCANjghJ9S"
      }
    },
    {
      "cell_type": "markdown",
      "source": [
        "![](https://raw.github.com/NadiaHolmlund/BDS_M2_Exam_Notes/main/Images/Screenshot%202022-10-30%20at%2007.50.20.png)\n",
        "\n",
        "![](https://raw.github.com/NadiaHolmlund/BDS_M2_Exam_Notes/main/Images/Screenshot%202022-10-30%20at%2007.50.58.png)"
      ],
      "metadata": {
        "id": "b8ssFLOIhLuE"
      }
    },
    {
      "cell_type": "markdown",
      "source": [
        "##### Arc plots"
      ],
      "metadata": {
        "id": "IA4JS0bmhP20"
      }
    },
    {
      "cell_type": "markdown",
      "source": [
        "![](https://raw.github.com/NadiaHolmlund/BDS_M2_Exam_Notes/main/Images/Screenshot%202022-10-30%20at%2007.51.33.png)"
      ],
      "metadata": {
        "id": "mclxYej0hc8t"
      }
    },
    {
      "cell_type": "markdown",
      "source": [
        "##### Circos plots"
      ],
      "metadata": {
        "id": "9HgBCrAqhR7U"
      }
    },
    {
      "cell_type": "markdown",
      "source": [
        "![](https://raw.github.com/NadiaHolmlund/BDS_M2_Exam_Notes/main/Images/Screenshot%202022-10-30%20at%2007.52.19.png)"
      ],
      "metadata": {
        "id": "tuaFUvFhhhmv"
      }
    },
    {
      "cell_type": "markdown",
      "source": [
        "#### Irrational vs. rational graphs"
      ],
      "metadata": {
        "id": "NVbel096g2tH"
      }
    },
    {
      "cell_type": "markdown",
      "source": [
        "![](https://raw.github.com/NadiaHolmlund/BDS_M2_Exam_Notes/main/Images/Screenshot%202022-10-30%20at%2007.49.42.png)"
      ],
      "metadata": {
        "id": "N8zfg0umg5Qe"
      }
    },
    {
      "cell_type": "markdown",
      "source": [
        "### NetworkX library"
      ],
      "metadata": {
        "id": "MAYJhQxWhSFe"
      }
    },
    {
      "cell_type": "markdown",
      "source": [
        "A graph object is a specific datastructure which contains node and edgelists jointly, and enables the application of graph algorithms on them. We work with the [`networkx`](https://networkx.github.io/documentation/stable/index.html) library, which is the standard for network analysis in the Python community."
      ],
      "metadata": {
        "id": "4RptyNgThUCm"
      }
    },
    {
      "cell_type": "code",
      "source": [
        "import networkx as nx # Main network analysis library"
      ],
      "metadata": {
        "id": "M6ILRfepxNU-"
      },
      "execution_count": null,
      "outputs": []
    },
    {
      "cell_type": "markdown",
      "source": [
        "In NetworkX, graph data are stored in a dictionary-like fashion.\n",
        "They are placed under a `Graph` object,\n",
        "canonically instantiated with the variable `G` as follows:\n",
        "\n",
        "```python\n",
        "G = nx.Graph()\n",
        "```\n",
        "\n",
        "Of course, you are free to name the graph anything you want!\n",
        "\n",
        "Nodes are part of the attribute `G.nodes`.\n",
        "There, the node data are housed in a dictionary-like container,\n",
        "where the key is the node itself\n",
        "and the values are a dictionary of attributes. \n",
        "Node data are accessible using syntax that looks like:\n",
        "\n",
        "```python\n",
        "G.nodes[node1]\n",
        "```\n",
        "\n",
        "Edges are part of the attribute `G.edges`,\n",
        "which is also stored in a dictionary-like container.\n",
        "Edge data are accessible using syntax that looks like: \n",
        "\n",
        "```python\n",
        "G.edges[node1, node2]\n",
        "```\n",
        "Because of the dictionary-like implementation of the graph,\n",
        "any hashable object can be a node.\n",
        "This means strings and tuples, but not lists and sets."
      ],
      "metadata": {
        "id": "aPCP1SrBRsIf"
      }
    },
    {
      "cell_type": "markdown",
      "source": [
        "## Local network structure (node-level measures)"
      ],
      "metadata": {
        "id": "arOixM0aUJxm"
      }
    },
    {
      "cell_type": "markdown",
      "source": [
        "Methods to summarise the pattern of node connectivity to inter something on their characteristics.\n",
        "\n",
        "![](https://raw.github.com/NadiaHolmlund/BDS_M2_Exam_Notes/main/Images/Screenshot%202022-10-29%20at%2012.38.56.png)"
      ],
      "metadata": {
        "id": "cmW2pE-oUidz"
      }
    },
    {
      "cell_type": "markdown",
      "source": [
        "### Degree centrality"
      ],
      "metadata": {
        "id": "GkuGCdNAVB8a"
      }
    },
    {
      "cell_type": "markdown",
      "source": [
        "- Counts the number of edges adjacent to a node.\n",
        "- Formally, the degree of node $i$ is the number of existing edges $e_{ij}$ with other nodes $j$ in a network with $n$ nodes:\n",
        "\n",
        "$$d_{ij} =\\sum\\limits_{j=1}^{n} e_{ij} ~ where: ~ i \\neq j$$\n",
        "\n",
        "**Degree centrality in directed networks**\n",
        "\n",
        "In directed networks, a node-pair has two different roles:\n",
        "\n",
        "* **Ego:** The node the edge originates from.\n",
        "* **Alter:** The node the edge leads to.\n",
        "\n",
        "Network metrics have to take directionality into account. For example, degree centrality is now differentiated between the\n",
        "- **in-degree** centrality (now many edges lead to the node)\n",
        "- **out-degree** centrality (now many edges lead to the node)\n",
        "\n",
        "![](https://raw.github.com/NadiaHolmlund/BDS_M2_Exam_Notes/main/Images/Screenshot%202022-10-29%20at%2012.43.47.png)"
      ],
      "metadata": {
        "id": "8ADMvslxVjvu"
      }
    },
    {
      "cell_type": "markdown",
      "source": [
        "### Eigenvector centrality"
      ],
      "metadata": {
        "id": "RHqmrFCFVXWN"
      }
    },
    {
      "cell_type": "markdown",
      "source": [
        "- Weighs a node's degree centrality by the centrality of the nodes adjacent to it (and their centrality in turn by their centrality).\n",
        "\n",
        "$$x_{v}={\\frac {1}{\\lambda }}\\sum _{t\\in M(v)}x_{t}={\\frac {1}{\\lambda }}\\sum _{t\\in G}a_{v,t}x_{t}$$\n",
        "\n",
        "![](https://raw.github.com/NadiaHolmlund/BDS_M2_Exam_Notes/main/Images/Screenshot%202022-10-29%20at%2012.48.08.png)"
      ],
      "metadata": {
        "id": "j360eHOeWLeF"
      }
    },
    {
      "cell_type": "markdown",
      "source": [
        "### Betweenness centrality"
      ],
      "metadata": {
        "id": "oLp_3obCVc_d"
      }
    },
    {
      "cell_type": "markdown",
      "source": [
        "- Measures the extent to which it lies on short paths.\n",
        "- A higher betweenness indicates that a node lies on more short paths and hence should somehow be important for traversing between different parts of a network.\n",
        "\n",
        "In formulaic representation\n",
        "\n",
        "* The geodesic betweenness $B_{n}(i)$ of a **vertex** in a weighted, undirected network is\n",
        "\n",
        "$$B_{n}(i) =  \\sum_{s,t \\in G} \\frac{ \\Psi_{s,t}(i) }{\\Psi_{s,t}}$$\n",
        "where vertices $s,t,i$ are all different from each other\n",
        "\n",
        "* $\\Psi_{s,t}$ denotes the number of shortest paths (geodesics) between vertices $s$ and $t$\n",
        "* $\\Psi_{s,t}(i)$ denotes the number of shortest paths (geodesics) between vertices $s$ and $t$ **that pass through vertex** $i$.\n",
        "* The geodesic betweenness $B_n$ of a network is the mean of $B_n(i)$ over all vertices $i$\n",
        "\n",
        "![](https://raw.github.com/NadiaHolmlund/BDS_M2_Exam_Notes/main/Images/Screenshot%202022-10-29%20at%2012.51.47.png)"
      ],
      "metadata": {
        "id": "zjAhCzJFXSyg"
      }
    },
    {
      "cell_type": "markdown",
      "source": [
        "### Neighborhood"
      ],
      "metadata": {
        "id": "fGExOYbRYBDM"
      }
    },
    {
      "cell_type": "markdown",
      "source": [
        "- Examines the surroundings of a node in terms of the nodes it is connected to, i.e. it's neighborhood\n",
        "- Ego-network of node: How many nodes are in a certain geodesic distance (meaning the shortest path), i.e. how many nodes are not more than x-steps away.\n",
        "\n",
        "![](https://raw.github.com/NadiaHolmlund/BDS_M2_Exam_Notes/main/Images/Screenshot%202022-10-29%20at%2012.57.16.png)"
      ],
      "metadata": {
        "id": "d0fHzek6YFwR"
      }
    },
    {
      "cell_type": "markdown",
      "source": [
        "### UPDATE Clustering (Community detection)\n",
        "what is within and between network connectivity??"
      ],
      "metadata": {
        "id": "op8IJNQoZISL"
      }
    },
    {
      "cell_type": "markdown",
      "source": [
        "- Group nodes based on graph topology (sometimes referred to as community detection based on its commonality in social network analysis)\n",
        "- Main logic: Form groups which have a ***maximum within-connectivity*** and a ***minimum between-connectivity***.\n",
        "- Consequently: Nodes in the same community should have a higher probability of being connected than nodes from different communities.\n",
        "\n",
        "**Community clustering in directed networks**\n",
        "\n",
        "Most community detection algorithms implemented in `NetworkX` only work with undirected networks. So, we can do 2 things to handle these:\n",
        "\n",
        "1. Convert the network in an undirected one.\n",
        "2. Use the \"edge betweenness\" algorithm, the only one implemented that can handle directed networks.\n",
        "\n",
        "There are (just like for clustering of tabular data in UML) many different algorithms and approaches to detect and delineate communities. [Here](https://github.com/benedekrozemberczki/awesome-community-detection) you find a summary of currently used approaches."
      ],
      "metadata": {
        "id": "sJBWbOoOZJkA"
      }
    },
    {
      "cell_type": "markdown",
      "source": [
        "Example: The Louvain Algorithm\n",
        "\n",
        "One of the most widely used community detection algorithms. It usually delivers good results, scales well, and can handle weighted networks. Furthermore, there is an actively maintained, easy to use Python implementation, [`python-louvain`](https://python-louvain.readthedocs.io).\n",
        "\n",
        "It optimises a quantity called modularity:\n",
        "\n",
        "$$  \\sum_{ij} (A_{ij} - \\lambda P_{ij}) \\delta(c_i,c_j) $$\n",
        "\n",
        "$A$ - The adjacency matrix\n",
        "\n",
        "$P_{ij}$ - The expected connection between $i$ and $j$.\n",
        "\n",
        "$\\lambda$ - Resolution parameter\n",
        "\n",
        "Can use lots of different forms for $P_{ij}$ but the standard one is the so called configuration model:\n",
        "\n",
        "$P_{ij} = \\frac{k_i k_j}{2m}$\n",
        "\n",
        "Loosely speaking, in an iterative process:\n",
        "- You take a node and try to aggregate it to one of its neighbours.\n",
        "- You choose the neighbour that maximizes a modularity function.\n",
        "- Once you iterate through all the nodes, you will have merged few nodes together and formed some communities.\n",
        "- This becomes the new input for the algorithm that will treat each community as a node and try to merge them together to create bigger communities.\n",
        "- The algorithm stops when it’s not possible to improve modularity any more.\n",
        "\n",
        "![](https://raw.github.com/NadiaHolmlund/BDS_M2_Exam_Notes/main/Images/Screenshot%202022-10-29%20at%2013.04.56.png)\n",
        "\n",
        "![](https://raw.github.com/NadiaHolmlund/BDS_M2_Exam_Notes/main/Images/Screenshot%202022-10-29%20at%2013.06.10.png)"
      ],
      "metadata": {
        "id": "E7OcvXIHaZRI"
      }
    },
    {
      "cell_type": "markdown",
      "source": [
        "### Assortiativity"
      ],
      "metadata": {
        "id": "N2qUHD_Fnrvn"
      }
    },
    {
      "cell_type": "markdown",
      "source": [
        "- Measures if two nodes that share certain characteristics have a higher or lower probability to be connected.\n"
      ],
      "metadata": {
        "id": "WQgAKabQnuf_"
      }
    },
    {
      "cell_type": "markdown",
      "source": [
        "### Reciprocity\n",
        "\n",
        "- Measures if directed edges are reciptocated, meaning that an edge between `i,j` makes an edge between `j,i` more likely"
      ],
      "metadata": {
        "id": "AOt2P7_an5Qw"
      }
    },
    {
      "cell_type": "markdown",
      "source": [
        "## Global network structure (overall-level measures)"
      ],
      "metadata": {
        "id": "VvEAQMZtbml2"
      }
    },
    {
      "cell_type": "markdown",
      "source": [
        "### Density"
      ],
      "metadata": {
        "id": "UL41dMJEb5jc"
      }
    },
    {
      "cell_type": "markdown",
      "source": [
        "- The density of a measure represents the share of all possible connections in the network."
      ],
      "metadata": {
        "id": "whjcF-_1cL6_"
      }
    },
    {
      "cell_type": "markdown",
      "source": [
        "### Transistivity / Clustering Coefficient"
      ],
      "metadata": {
        "id": "dVNbkMPzb-UK"
      }
    },
    {
      "cell_type": "markdown",
      "source": [
        "- Transistivity, also called the Clustering Cefficient indicates how much the network tends to be locally clustered. That is measured by the share of closed triplets. Again,w e will dig into that next time."
      ],
      "metadata": {
        "id": "Az01DuuCccMP"
      }
    },
    {
      "cell_type": "markdown",
      "source": [
        "### Diameter"
      ],
      "metadata": {
        "id": "ZGStDpQ0cBGC"
      }
    },
    {
      "cell_type": "markdown",
      "source": [
        "- The diameter is the longest of the shortest paths between two nodes of the network."
      ],
      "metadata": {
        "id": "4bIojY_MdzrO"
      }
    },
    {
      "cell_type": "markdown",
      "source": [
        "### Mean distance / Average path lenght"
      ],
      "metadata": {
        "id": "8UTh6SU3cDgo"
      }
    },
    {
      "cell_type": "markdown",
      "source": [
        "- The mean distance / average path lenght represents the mean of all shortest paths between all nodes. It is a measure of diffusion potential within a network."
      ],
      "metadata": {
        "id": "ejUylNTbd9CR"
      }
    },
    {
      "cell_type": "markdown",
      "source": [
        "## Small worlds"
      ],
      "metadata": {
        "id": "RYx5dKfykeyV"
      }
    },
    {
      "cell_type": "markdown",
      "source": [
        "Small worlds are an interesting network structure, combining short path lenght betwen the nodes with a high clustering coefficient. That means, that we have small interconected clusters, which are in turn connected by **gatekeepers** (the edges we call **bridges** or **structural holes**). \n",
        "\n",
        "A small-world network is a type of mathematical graph in which most nodes are not neighbors of one another, but the neighbors of any given node are likely to be neighbors of each other and most nodes can be reached from every other node by a small number of hops or steps.\n",
        "\n",
        "Mathematically, small world networks of size n have an average distance O(log n), meaning that between any two random nodes, the expected distance is O(log n).\n",
        "\n",
        "⟨L⟩ ∝ log n\n",
        "\n",
        "Small-world network example\n",
        "Hubs are bigger than other nodes\n",
        "Average degree= 3.833\n",
        "Average shortest path length = 1.803.\n",
        "Clustering coefficient = 0.522\n",
        "\n",
        "![](https://raw.github.com/NadiaHolmlund/BDS_M2_Exam_Notes/main/Images/Small-world-network-example.png)"
      ],
      "metadata": {
        "id": "xRRqgXqlkgZP"
      }
    },
    {
      "cell_type": "markdown",
      "source": [
        "## Similarity networks"
      ],
      "metadata": {
        "id": "3Kppch4Zoz_0"
      }
    },
    {
      "cell_type": "markdown",
      "source": [
        "- Constructed by mapping similarity between all observations, e.g. using Cosine Distance"
      ],
      "metadata": {
        "id": "NRWnf-Ico1tx"
      }
    },
    {
      "cell_type": "markdown",
      "source": [
        "## Multimodal network analysis"
      ],
      "metadata": {
        "id": "uwCRKTh2pLiZ"
      }
    },
    {
      "cell_type": "markdown",
      "metadata": {
        "id": "7IhBLLexCOPh"
      },
      "source": [
        "Multi-modal means a network has several \"modes\", i.e. it connects entities on different conceptual levels. The most common is a **2-mode** (or **bipartite**) network. \n",
        "\n",
        "Examples could be:\n",
        "\n",
        "* Author $\\rightarrow$ Paper\n",
        "* Inventor $\\rightarrow$ Patent\n",
        "* Member $\\rightarrow$ Club network. \n",
        "\n",
        "Here, elements in different modes represent different things. In real-life research examples you find 2-mode networks in for instance:\n",
        "- co-occurence (2 actors mentioned in the same news-article)\n",
        "- co-affiliation (2 actors are member of the same association)\n",
        "- co-characteristics (2 actors both like to talk about a certain topic on twitter)."
      ]
    },
    {
      "cell_type": "markdown",
      "source": [
        "### Network Projections"
      ],
      "metadata": {
        "id": "TRrhE8wEuFIH"
      }
    },
    {
      "cell_type": "markdown",
      "metadata": {
        "id": "1rVL3iyWCOmY"
      },
      "source": [
        "Two-mode networks are rarely analysed in their original form. Although this is preferable, few methods exist for that purpose. As such, these networks are often transformed into one-mode networks (only one type of nodes) to be analysed. This procedure is often referred to as projection. Projection is done by selecting one of the sets of nodes and linking two nodes from that set if they were connected to the same node (of the other kind).\n",
        "\n",
        "We can alalyse them in sepperation (and sometimes we should), but often its helpful to *project* them onto one mode. Here, we create a node in one mode by joint association with another mode.\n",
        "\n",
        "2-mode\n",
        "\n",
        "![](https://toreopsahl.files.wordpress.com/2009/04/fig1_twomode_half.png)\n",
        "\n",
        "1-mode\n",
        "\n",
        "![](https://toreopsahl.files.wordpress.com/2009/04/fig1_twomode_simple.png)\n",
        "\n",
        "![](https://www.dropbox.com/s/e4vnq7kh24pyu0t/networks_2mode.png?dl=1)\n",
        "\n",
        "Particularly in citation networks, we can also use the implicite 2-mode structure of $Publications \\rightarrow Citation$\n",
        "\n",
        "That helps us to apply some interesting metrics, such as:\n",
        "\n",
        "* direct citations\n",
        "* Bibliographic coupling\n",
        "* Co--citations\n",
        "\n",
        "Interestingly, different projections of this 2-mode network give the whole resulting 1-mode network a different meaning.\n",
        "\n",
        "![](https://www.dropbox.com/s/f8g8nr83lucvpqx/networks_biblio.png?dl=1)\n"
      ]
    },
    {
      "cell_type": "markdown",
      "source": [
        "### Weighted Network Projection"
      ],
      "metadata": {
        "id": "Kr3b6TuguHpF"
      }
    },
    {
      "cell_type": "markdown",
      "metadata": {
        "id": "S92TTSjSr2jD"
      },
      "source": [
        "In a similar spirit as the method used by Newman (2001), it is also possible to discount for the number of nodes when projecting weighted two-mode networks.\n",
        "\n",
        " \n",
        " For example, it could be argued that if many online users post to a thread, their ties should be weaker than if there were few people posting to the thread. A straight forward generalisation is the following function: $w_{ij} = \\sum_p \\frac{w_{i,p}}{N_p - 1}$. \n",
        " \n",
        " This formula would create a directed one-mode network in which the out-strength of a node is equal to the sum of the weights attached to the ties in the two-mode network that originated from that node. For example, node C has a tie with a weight of 5 in the two-mode network and an out-strength of 5 in the one-mode projection.\n",
        "\n",
        "![](https://toreopsahl.files.wordpress.com/2009/04/fig1_twomode_forum_newman2001.png)"
      ]
    },
    {
      "cell_type": "markdown",
      "source": [
        "# Natural Language Processing"
      ],
      "metadata": {
        "id": "GClPkVQAtIP4"
      }
    },
    {
      "cell_type": "markdown",
      "source": [
        "Introduction to statistical natural language processing, focusing on NLP in combination with supervised ML as well as topic modelling for unsupervised approaches."
      ],
      "metadata": {
        "id": "8AELOs5KtQqB"
      }
    },
    {
      "cell_type": "markdown",
      "source": [
        "1 text vs many texts\n",
        "1 long vs many short ones\n",
        "\n",
        "why does it makes differenc and how\n",
        "long: the level of analysis, what are we looking at. \n",
        "- look at entities (e.g. person, characters, places mentioend in the book\n",
        "- terms, the use of certain types of language\n",
        "\n",
        "\n",
        "short: mostly working with in NLP\n",
        "- compare them\n",
        "- what are they about\n",
        "\n",
        "the question/conclusion is: our interest of analysis goes into the direction of saying either were analysing the text as such (what is the statement in the text) or elements of text (a bit of an ideal descriotion)\n",
        "\n",
        "elements (old school NLP)\n",
        "- entitites (who are the persons emntioend is this long text in a windows of 15 words e.g.)\n",
        "- language use, what kind of verbs and adjectives are around\n",
        "- n-grams combinations of two/three terms, define what the text is about\n",
        "- relations between terms\n",
        "- relations between entitites\n",
        "\n",
        "text as such (linked more to machine learning)\n",
        "- sentiment, does a certain text express a certain sentiment towards what it describes. regression problems, e.g. more joyful, less joyful in a description etc.\n",
        "- predict class, text desribing different types of restaruants, read description and try to predict take-away, high end etc. (i.e. classification SML)\n",
        "- topics, what is the topical compositions of the texts, e.g. tweets. patterns and topics emerging again anad again and how do they change over time\n",
        "- similarity, there is this piece of text, can you show me other texts that are semantically similar, not only in terms of keywords, even though that could be a way, but also other things that are talking about the same topics in the same way, going beyong similar or counting keywords."
      ],
      "metadata": {
        "id": "ikN7yMtL2SPw"
      }
    },
    {
      "cell_type": "markdown",
      "source": [
        "Container model\n",
        "\n",
        "how to turn a piece of text into something readable for computers\n",
        "\n",
        "scenario: have sentence 'this is a very nice house'. how to translate this into something we can use for nlp.\n",
        "\n",
        "one approach: think about the sentence as a container - it contains words. so its kind of a way of representing meaning through combinations of elements. the container model. \n",
        "\n",
        "if the sentence is a container for terms, then the terms are varying a menaing and the combinaiton of terms is the meanign of the sentence. what is bearing more meaning (debtabel). house if important and nice, very but this is a . is not so interesting. \n",
        "\n",
        "there are some relationsship between the entitties, translate it to represent relationsship with networks structures. can even say it's directed relationships\n",
        "\n",
        "how to get there - look at grammar. what are the subjects, what the objects, and how are they related. packages exist for this. this is turning texts into elements and performing analysis on the elements. tedius works, but gives many insights. \n",
        "\n",
        "this is from text to network analysis. if you want to perform network analysis, this would be the kind of pipeline.\n",
        "\n",
        "represent text as a relational structure, creating an edgelist etc.\n",
        "\n",
        "pic of screen\n",
        "\n",
        "\n",
        "\n"
      ],
      "metadata": {
        "id": "i-qxYE6xKBaC"
      }
    },
    {
      "cell_type": "markdown",
      "source": [
        "Bag of words model\n",
        "\n",
        "how do we do, this kind from text to ML\n",
        "how to we go from text to the kind of data we can use in ml approach. we need tabular data incl. text and features. \n",
        "\n",
        "what could the features be: the most intuitive is that f1 to fn is the vocabulary contained in the whole collection of texts. i.e. the entire vocab we use to talk and to write. so it's all of the words from before. this is called the ***bag of words representation of text***\n",
        "\n",
        "pic of screen\n",
        "\n",
        "example:\n",
        "the fat cat sits on the mat.\n",
        "the cat ate a fat rat\n",
        "the dog is sad\n",
        "\n",
        "the first we can do is kick out the words that don't carry much meaning. e.g. articles the, is, a etc. preprositions and full stops.\n",
        "\n",
        "normalizing text: stemming or lemmatizing\n",
        "normaliszing the vocab by removing gender and that declension and conjugations??? changes the verbs according to whether is plural, singular, etc. and transform past tense into present. \n",
        "\n",
        "reason to normalize - for discovering meaning it is the same, as long as what you want to figure out is related to meaning and not so much to gender or time etc. \n",
        "\n",
        "leaves a vocab of fat, cat, sit, mat, eat, rat, dog, sad.\n",
        "\n",
        "take the vocab and make a table out of it.\n",
        "\n",
        "pic of screen\n",
        "pic of screen\n",
        "\n",
        "then we can just go through each sentence and put 1's and 0's if the word is there or not. then we get a sparse matrix, but it represents the texts in tabular form. from here you can use it in ML. that's the bag of words model in NLP.\n"
      ],
      "metadata": {
        "id": "j9ZoecF6rkRG"
      }
    },
    {
      "cell_type": "markdown",
      "source": [
        "TFIDF = term frequency - inverse document frequency\n",
        "\n",
        "unimportant words\n",
        "\n",
        "one word appears in all texts, e.g. the word president in political text. so maybe the word isn't that important fo the individual sentences.\n",
        "\n",
        "what about originality. an original word is probably more important that a word theat is very general.\n",
        "\n",
        "most famous way to deal with it is TF-IDF = term frequency - inverse document frequency.\n",
        "\n",
        "what does it do:\n",
        "it tries to weight. if a words is all over the place it mya not be as important as words that doesn't appear that much.\n",
        "\n",
        "the wieght of term x and sentence y is equal to the term frequency of the word x in sentence y times the logarithm of the total number of documents divided by dfx (the number of documents the word x appears in, i.e. cannot be larger than N)\n",
        "\n",
        "the closer log is to one, the lower the importance of the word\n",
        "\n",
        "tfidf discount general terms / highlight specific terms. really just looking a frequency distribution.\n",
        "\n"
      ],
      "metadata": {
        "id": "xPO-rh0XrnT0"
      }
    },
    {
      "cell_type": "markdown",
      "source": [
        "from Bag of words (BoW) to topic modeling and embeddings\n",
        "\n",
        "unsupervised ML\n",
        "\n",
        "BoW and tfids is good enough for many supervised ml. e.g. a classifier into different categories, e.g. sentiment analysis. performance can be quite alright for BoW but will be better for tfidf\n",
        "\n",
        "\n",
        "how can we go from sparse to more dense - LSI (latent semantic indexing) or LSA (latent semantic analysis). basically used something similar to singular value decomposition (SVD) or NMF (non negative matrix factorization). kinda similar in terms of mathematics and output.\n",
        "\n",
        "simplified example:\n",
        "\n",
        "we have a mtrix with words and docs. it's very sparse (usually the case in texts). what you can do is transform that using dimensionality reduction approach to make it dense. result is one matrix that is the documents vs topics and one matrix that topics vs vocab\n",
        "\n",
        "picture from screen\n",
        "\n",
        "here, what we get is one dense matrix that identifies topics, the topics are similar to UML, i.e. components. the topics are easy to interpret because the way we speak and write are logical. so linear algebra can help to uncover latent topics in text corpora. each document will be represented as a combination of topics. at the same time, there as a matrix that will look as to which extent terms contribute to topics. what is the relationship between certain terms an certain topics. what are the most prominent topics and what are the words that represent these topics. this is alower dimenstion matric that we can use for SML, similarity (calculate cosine similarity - advantage of similarity on reduced matrix compared to bow/tfidf is that in reduced you are able to get similarity on two documents that don't share any words but contains certain synonyms. bow the problem is you need to have exact common terms, you don't need that in lsi/LSA because it's based on topics not words. getting closer to semantic similarity here.)\n",
        "\n",
        "\n",
        "LDA\n",
        "another topic modeling approach- LDA (latent dirichlet allocation. probabilistc approach. wouldn't use it for SML, but great for topic discovery and visualizations\n",
        "\n",
        "Corex\n",
        "- can we make existing approaches more informative\n",
        "- anchor words - means that you get some kind of semi-supervised  representation. so you can infuse the model with some domain expertise. i know there are some topics in this corpus and i know htese are terms that belong to the different topics. so take these into account when you are making the groupings automatically.\n",
        "\n"
      ],
      "metadata": {
        "id": "fx8RXKeRuEUU"
      }
    },
    {
      "cell_type": "markdown",
      "source": [
        "Syntax\n",
        "\n",
        "in simple terms: what is the order of things in a sentence, it makes a difference, e.g.\n",
        "- dog bites man vs man bites dog\n",
        "\n",
        "word to vec\n",
        "approach (some of the way, all the way requires deep learning) word2vec = word embeddings. the rational/mechanics:\n",
        "- assumptions - distributional hypopothesis \"you shall know the meaning of a word by observing the company it keeps\", i.e. the meaning of a word is defined by the context in which it tends to occur. by observing the words surrounding a word will give us an udnerstanding of what the word mean.\n",
        "\n",
        "the algorithm is a formalization of that.\n",
        "you look at the first three and then try to predict the 4th words. once youre done with that you move the window by one and try to preidct word 5 etc. etc.\n",
        "\n",
        "imagine youre taking all your words in a text or coprus, creating a sml classification provblem where input is x, the first 3 words, and y is word number 4 etc. etc. etc.\n",
        "\n",
        "the model is shallow neural network, that happens is: by doing this over an over agian you are identifying patterns that are mapping the realiontshio between this terms and all the possible contexts it has. you end up with a vector (word embedding) representation of the word that carries the meaning of the word. ocnce you have these word embeddings, you can figure out the folliwning:\n",
        "- similar terms have similar vectors, because similar terms tend to appear in similar contexts, e.g. the word cat will appear in similar contexts as feline\n",
        "- Vberling - Vparis + Vbeer = Vwine, it captures not only the words but also the context and allows you to do linear algebra on the words and find the latent structures that are underlying.\n",
        "- average vector of all the words in a sentence as a document representation.\n",
        "- input for deep learning applications\n",
        "  - what if were not only looking at words in a sentence but feeding the models with vectors that are representing the words in the right order. so feed in word vector in a neural network into specific models, going to a model where we know for each word what it means. \n",
        "\n",
        "run the exercise on a LOT of text and training the model and you will end up with something that really good at finding the meaning of words\n"
      ],
      "metadata": {
        "id": "ZFDnflk6xkUV"
      }
    },
    {
      "cell_type": "markdown",
      "source": [],
      "metadata": {
        "id": "JKG4fAu2rqBg"
      }
    }
  ]
}